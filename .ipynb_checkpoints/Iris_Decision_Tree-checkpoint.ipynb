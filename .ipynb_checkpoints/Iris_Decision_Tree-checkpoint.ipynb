{
 "cells": [
  {
   "cell_type": "markdown",
   "id": "2fb9ade8",
   "metadata": {},
   "source": [
    "\n",
    "# 🌸 Iris Species Classification using Scikit-learn\n",
    "\n",
    "**Goal:** Train and evaluate a Decision Tree classifier on the classic *Iris dataset* using Scikit-learn.\n",
    "\n",
    "### Steps Covered\n",
    "1. Load and explore the Iris dataset  \n",
    "2. Handle missing values (if any)  \n",
    "3. Encode categorical labels  \n",
    "4. Split data into training/testing sets  \n",
    "5. Train a Decision Tree classifier  \n",
    "6. Evaluate using accuracy, precision, and recall  \n",
    "7. Visualize the decision tree and feature importances  \n"
   ]
  },
  {
   "cell_type": "code",
   "execution_count": null,
   "id": "1e71437e",
   "metadata": {},
   "outputs": [],
   "source": [
    "\n",
    "import pandas as pd\n",
    "import numpy as np\n",
    "import matplotlib.pyplot as plt\n",
    "import seaborn as sns\n",
    "from sklearn.datasets import load_iris\n",
    "from sklearn.impute import SimpleImputer\n",
    "from sklearn.preprocessing import LabelEncoder\n",
    "from sklearn.model_selection import train_test_split\n",
    "from sklearn.tree import DecisionTreeClassifier, plot_tree\n",
    "from sklearn.metrics import accuracy_score, precision_score, recall_score, classification_report, confusion_matrix\n"
   ]
  },
  {
   "cell_type": "markdown",
   "id": "5af64441",
   "metadata": {},
   "source": [
    "## 1. Load and Explore Dataset"
   ]
  },
  {
   "cell_type": "code",
   "execution_count": null,
   "id": "16e294ce",
   "metadata": {},
   "outputs": [],
   "source": [
    "\n",
    "iris = load_iris(as_frame=True)\n",
    "X = iris.frame.drop(columns=['target'])\n",
    "y_numeric = iris.frame['target']\n",
    "target_names = iris.target_names.tolist()\n",
    "\n",
    "df = X.copy()\n",
    "df['species'] = [target_names[i] for i in y_numeric]\n",
    "df.head()\n"
   ]
  },
  {
   "cell_type": "markdown",
   "id": "82087c11",
   "metadata": {},
   "source": [
    "## 2. Handle Missing Values"
   ]
  },
  {
   "cell_type": "code",
   "execution_count": null,
   "id": "79adcf60",
   "metadata": {},
   "outputs": [],
   "source": [
    "\n",
    "print(\"Missing values per column:\")\n",
    "print(df.isna().sum())\n",
    "\n",
    "# Impute if needed\n",
    "features = df.drop(columns=['species']).copy()\n",
    "if features.isna().sum().sum() > 0:\n",
    "    imputer = SimpleImputer(strategy='mean')\n",
    "    features = pd.DataFrame(imputer.fit_transform(features), columns=features.columns)\n",
    "else:\n",
    "    print(\"\\nNo missing values found — proceeding without imputation.\")\n"
   ]
  },
  {
   "cell_type": "markdown",
   "id": "a3a5bbee",
   "metadata": {},
   "source": [
    "## 3. Encode Labels"
   ]
  },
  {
   "cell_type": "code",
   "execution_count": null,
   "id": "723761ff",
   "metadata": {},
   "outputs": [],
   "source": [
    "\n",
    "le = LabelEncoder()\n",
    "y = le.fit_transform(df['species'])\n",
    "print(\"Label mapping:\", dict(zip(le.classes_, le.transform(le.classes_))))\n"
   ]
  },
  {
   "cell_type": "markdown",
   "id": "1d4f49df",
   "metadata": {},
   "source": [
    "## 4. Split Dataset"
   ]
  },
  {
   "cell_type": "code",
   "execution_count": null,
   "id": "9237d2b0",
   "metadata": {},
   "outputs": [],
   "source": [
    "\n",
    "X_train, X_test, y_train, y_test = train_test_split(\n",
    "    features, y, test_size=0.2, random_state=42, stratify=y\n",
    ")\n",
    "print(f\"Train size: {len(X_train)}, Test size: {len(X_test)}\")\n"
   ]
  },
  {
   "cell_type": "markdown",
   "id": "a3bd3607",
   "metadata": {},
   "source": [
    "## 5. Train Decision Tree Classifier"
   ]
  },
  {
   "cell_type": "code",
   "execution_count": null,
   "id": "165cea3d",
   "metadata": {},
   "outputs": [],
   "source": [
    "\n",
    "clf = DecisionTreeClassifier(random_state=42)\n",
    "clf.fit(X_train, y_train)\n",
    "print(\"Decision Tree trained successfully!\")\n"
   ]
  },
  {
   "cell_type": "markdown",
   "id": "1b61f943",
   "metadata": {},
   "source": [
    "## 6. Evaluate Model"
   ]
  },
  {
   "cell_type": "code",
   "execution_count": null,
   "id": "e7ffac5c",
   "metadata": {},
   "outputs": [],
   "source": [
    "\n",
    "y_pred = clf.predict(X_test)\n",
    "\n",
    "acc = accuracy_score(y_test, y_pred)\n",
    "prec = precision_score(y_test, y_pred, average='macro', zero_division=0)\n",
    "rec = recall_score(y_test, y_pred, average='macro', zero_division=0)\n",
    "\n",
    "print(f\"Accuracy: {acc:.4f}\")\n",
    "print(f\"Precision (macro): {prec:.4f}\")\n",
    "print(f\"Recall (macro): {rec:.4f}\")\n",
    "\n",
    "print(\"\\nClassification Report:\")\n",
    "print(classification_report(y_test, y_pred, target_names=le.classes_, zero_division=0))\n"
   ]
  },
  {
   "cell_type": "markdown",
   "id": "53e2f4b6",
   "metadata": {},
   "source": [
    "### Confusion Matrix Visualization"
   ]
  },
  {
   "cell_type": "code",
   "execution_count": null,
   "id": "84147e0c",
   "metadata": {},
   "outputs": [],
   "source": [
    "\n",
    "cm = confusion_matrix(y_test, y_pred)\n",
    "plt.figure(figsize=(5,4))\n",
    "sns.heatmap(cm, annot=True, cmap='Blues', xticklabels=le.classes_, yticklabels=le.classes_)\n",
    "plt.xlabel(\"Predicted\")\n",
    "plt.ylabel(\"True\")\n",
    "plt.title(\"Confusion Matrix\")\n",
    "plt.show()\n"
   ]
  },
  {
   "cell_type": "markdown",
   "id": "5630ab1c",
   "metadata": {},
   "source": [
    "## 7. Visualize the Decision Tree"
   ]
  },
  {
   "cell_type": "code",
   "execution_count": null,
   "id": "24b72146",
   "metadata": {},
   "outputs": [],
   "source": [
    "\n",
    "plt.figure(figsize=(12,8))\n",
    "plot_tree(clf, feature_names=features.columns, class_names=le.classes_, filled=True, rounded=True, fontsize=10)\n",
    "plt.title(\"Decision Tree Visualization\")\n",
    "plt.show()\n"
   ]
  },
  {
   "cell_type": "markdown",
   "id": "7c4eba9c",
   "metadata": {},
   "source": [
    "## 8. Feature Importances"
   ]
  },
  {
   "cell_type": "code",
   "execution_count": null,
   "id": "d69b19e5",
   "metadata": {},
   "outputs": [],
   "source": [
    "\n",
    "importances = pd.Series(clf.feature_importances_, index=features.columns)\n",
    "importances.sort_values(ascending=True).plot(kind='barh', figsize=(8,4))\n",
    "plt.title(\"Feature Importances\")\n",
    "plt.xlabel(\"Importance Score\")\n",
    "plt.show()\n"
   ]
  }
 ],
 "metadata": {},
 "nbformat": 4,
 "nbformat_minor": 5
}
