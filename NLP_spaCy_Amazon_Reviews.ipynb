{
 "cells": [
  {
   "cell_type": "markdown",
   "id": "de28db3e",
   "metadata": {},
   "source": [
    "# NLP with spaCy — Amazon Product Reviews\n",
    "\n",
    "This notebook demonstrates how to perform **Named Entity Recognition (NER)** and **rule-based sentiment analysis** on Amazon product reviews using [spaCy](https://spacy.io/)."
   ]
  },
  {
   "cell_type": "markdown",
   "id": "97c9e913",
   "metadata": {},
   "source": [
    "## 1. Install and Import Dependencies"
   ]
  },
  {
   "cell_type": "code",
   "execution_count": null,
   "id": "208f0399",
   "metadata": {},
   "outputs": [],
   "source": [
    "\n",
    "# Uncomment if spaCy model is not installed:\n",
    "# !pip install spacy\n",
    "# !python -m spacy download en_core_web_sm\n",
    "\n",
    "import spacy\n"
   ]
  },
  {
   "cell_type": "markdown",
   "id": "a0732f0a",
   "metadata": {},
   "source": [
    "## 2. Load spaCy Language Model"
   ]
  },
  {
   "cell_type": "code",
   "execution_count": null,
   "id": "35b051bd",
   "metadata": {},
   "outputs": [],
   "source": [
    "\n",
    "nlp = spacy.load(\"en_core_web_sm\")\n",
    "print(\"spaCy model loaded successfully!\")\n"
   ]
  },
  {
   "cell_type": "markdown",
   "id": "6fbb3863",
   "metadata": {},
   "source": [
    "## 3. Sample Amazon Product Reviews"
   ]
  },
  {
   "cell_type": "code",
   "execution_count": null,
   "id": "ee8f4943",
   "metadata": {},
   "outputs": [],
   "source": [
    "\n",
    "reviews = [\n",
    "    \"I love the new Apple iPhone 14, the camera quality is outstanding!\",\n",
    "    \"The Samsung Galaxy battery drains too fast, very disappointing.\",\n",
    "    \"My Sony headphones are super comfortable and have amazing sound.\",\n",
    "    \"Terrible experience with the Dell laptop — it crashes all the time.\",\n",
    "    \"The Amazon Echo speaker has great sound but sometimes fails to respond.\"\n",
    "]\n"
   ]
  },
  {
   "cell_type": "markdown",
   "id": "353614d4",
   "metadata": {},
   "source": [
    "## 4. Define Sentiment Analysis Logic\n",
    "We'll use a simple **rule-based approach** based on lists of positive and negative words."
   ]
  },
  {
   "cell_type": "code",
   "execution_count": null,
   "id": "e408a532",
   "metadata": {},
   "outputs": [],
   "source": [
    "\n",
    "positive_words = {\"love\", \"amazing\", \"great\", \"good\", \"outstanding\", \"excellent\", \"super\", \"comfortable\"}\n",
    "negative_words = {\"terrible\", \"disappointing\", \"bad\", \"poor\", \"awful\", \"crashes\", \"fails\"}\n",
    "\n",
    "def get_sentiment(text):\n",
    "    words = {w.lower() for w in text.split()}\n",
    "    pos = len(words & positive_words)\n",
    "    neg = len(words & negative_words)\n",
    "    if pos > neg:\n",
    "        return \"Positive\"\n",
    "    elif neg > pos:\n",
    "        return \"Negative\"\n",
    "    else:\n",
    "        return \"Neutral\"\n"
   ]
  },
  {
   "cell_type": "markdown",
   "id": "ee1d9b70",
   "metadata": {},
   "source": [
    "## 5. Perform Named Entity Recognition (NER) and Sentiment Analysis"
   ]
  },
  {
   "cell_type": "code",
   "execution_count": null,
   "id": "8eb433f0",
   "metadata": {},
   "outputs": [],
   "source": [
    "\n",
    "for review in reviews:\n",
    "    doc = nlp(review)\n",
    "    entities = [(ent.text, ent.label_) for ent in doc.ents if ent.label_ in [\"ORG\", \"PRODUCT\"]]\n",
    "    sentiment = get_sentiment(review)\n",
    "    print(f\"\\nReview: {review}\")\n",
    "    print(f\"Extracted Entities: {entities}\")\n",
    "    print(f\"Sentiment: {sentiment}\")\n"
   ]
  },
  {
   "cell_type": "markdown",
   "id": "93be372f",
   "metadata": {},
   "source": [
    "## 6. Example Output\n",
    "You should see entities like `('Apple', 'ORG')`, `('iPhone 14', 'PRODUCT')` and sentiment labels such as **Positive** or **Negative**."
   ]
  },
  {
   "cell_type": "markdown",
   "id": "02cfa63a",
   "metadata": {},
   "source": [
    "---\n",
    "### ✅ Notes\n",
    "- spaCy’s `en_core_web_sm` model can identify organizations and products, but accuracy may vary.\n",
    "- For improved sentiment analysis, consider libraries like **TextBlob**, **VADER**, or **transformer-based models (e.g., BERT)**.\n",
    "- You can replace the sample reviews with any Amazon or user review text for experimentation."
   ]
  }
 ],
 "metadata": {
  "kernelspec": {
   "display_name": "Python 3 (ipykernel)",
   "language": "python",
   "name": "python3"
  },
  "language_info": {
   "codemirror_mode": {
    "name": "ipython",
    "version": 3
   },
   "file_extension": ".py",
   "mimetype": "text/x-python",
   "name": "python",
   "nbconvert_exporter": "python",
   "pygments_lexer": "ipython3",
   "version": "3.13.5"
  }
 },
 "nbformat": 4,
 "nbformat_minor": 5
}
